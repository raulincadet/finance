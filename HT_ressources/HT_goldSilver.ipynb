{
 "cells": [
  {
   "cell_type": "code",
   "execution_count": 25,
   "metadata": {},
   "outputs": [],
   "source": [
    "import pandas as pd\n",
    "import numpy as np\n",
    "import matplotlib\n",
    "import matplotlib.pyplot as plt\n"
   ]
  },
  {
   "cell_type": "code",
   "execution_count": 46,
   "metadata": {},
   "outputs": [
    {
     "data": {
      "text/html": [
       "<div>\n",
       "<style scoped>\n",
       "    .dataframe tbody tr th:only-of-type {\n",
       "        vertical-align: middle;\n",
       "    }\n",
       "\n",
       "    .dataframe tbody tr th {\n",
       "        vertical-align: top;\n",
       "    }\n",
       "\n",
       "    .dataframe thead th {\n",
       "        text-align: right;\n",
       "    }\n",
       "</style>\n",
       "<table border=\"1\" class=\"dataframe\">\n",
       "  <thead>\n",
       "    <tr style=\"text-align: right;\">\n",
       "      <th></th>\n",
       "      <th>0</th>\n",
       "      <th>1</th>\n",
       "      <th>2</th>\n",
       "      <th>3</th>\n",
       "    </tr>\n",
       "  </thead>\n",
       "  <tbody>\n",
       "    <tr>\n",
       "      <th>0</th>\n",
       "      <td>Grand Bois</td>\n",
       "      <td>4.73</td>\n",
       "      <td>2.23</td>\n",
       "      <td>14.9</td>\n",
       "    </tr>\n",
       "    <tr>\n",
       "      <th>1</th>\n",
       "      <td>Morne Bossa</td>\n",
       "      <td>2.2</td>\n",
       "      <td>1.84</td>\n",
       "      <td>15</td>\n",
       "    </tr>\n",
       "    <tr>\n",
       "      <th>2</th>\n",
       "      <td>Faille B</td>\n",
       "      <td>1.1</td>\n",
       "      <td>2.4</td>\n",
       "      <td>0</td>\n",
       "    </tr>\n",
       "  </tbody>\n",
       "</table>\n",
       "</div>"
      ],
      "text/plain": [
       "             0     1     2     3\n",
       "0   Grand Bois  4.73  2.23  14.9\n",
       "1  Morne Bossa   2.2  1.84    15\n",
       "2     Faille B   1.1   2.4     0"
      ]
     },
     "execution_count": 46,
     "metadata": {},
     "output_type": "execute_result"
    }
   ],
   "source": [
    "\n",
    "# Data from Bureau des Mines et de l'Energie\n",
    "# https://www.bme.gouv.ht/media/upload/doc/notices/Notice_explicative_du_potentiel_minier_comp.pdf\n",
    "deposits=[\"Grand Bois\",\"Morne Bossa\",\"Faille B\"]\n",
    "reserves=[4.73,2.2,1.1]         # millions tons of minerals\n",
    "gold_part=[2.23,1.84,2.4]       # part of gold in grams/ton\n",
    "silver_part=[14.9,15,0]         # part of silver in grams/ton\n",
    "\n",
    "df=pd.DataFrame([deposits,reserves,gold_part,silver_part])\n",
    "df=df.transpose()\n",
    "df\n"
   ]
  },
  {
   "cell_type": "code",
   "execution_count": 47,
   "metadata": {},
   "outputs": [
    {
     "data": {
      "text/html": [
       "<div>\n",
       "<style scoped>\n",
       "    .dataframe tbody tr th:only-of-type {\n",
       "        vertical-align: middle;\n",
       "    }\n",
       "\n",
       "    .dataframe tbody tr th {\n",
       "        vertical-align: top;\n",
       "    }\n",
       "\n",
       "    .dataframe thead th {\n",
       "        text-align: right;\n",
       "    }\n",
       "</style>\n",
       "<table border=\"1\" class=\"dataframe\">\n",
       "  <thead>\n",
       "    <tr style=\"text-align: right;\">\n",
       "      <th></th>\n",
       "      <th>Mineral deposits</th>\n",
       "      <th>Mineral Reserves</th>\n",
       "      <th>Gold part</th>\n",
       "      <th>Silver part</th>\n",
       "    </tr>\n",
       "  </thead>\n",
       "  <tbody>\n",
       "    <tr>\n",
       "      <th>0</th>\n",
       "      <td>Grand Bois</td>\n",
       "      <td>4.73</td>\n",
       "      <td>2.23</td>\n",
       "      <td>14.9</td>\n",
       "    </tr>\n",
       "    <tr>\n",
       "      <th>1</th>\n",
       "      <td>Morne Bossa</td>\n",
       "      <td>2.2</td>\n",
       "      <td>1.84</td>\n",
       "      <td>15</td>\n",
       "    </tr>\n",
       "    <tr>\n",
       "      <th>2</th>\n",
       "      <td>Faille B</td>\n",
       "      <td>1.1</td>\n",
       "      <td>2.4</td>\n",
       "      <td>0</td>\n",
       "    </tr>\n",
       "  </tbody>\n",
       "</table>\n",
       "</div>"
      ],
      "text/plain": [
       "  Mineral deposits Mineral Reserves Gold part Silver part\n",
       "0       Grand Bois             4.73      2.23        14.9\n",
       "1      Morne Bossa              2.2      1.84          15\n",
       "2         Faille B              1.1       2.4           0"
      ]
     },
     "execution_count": 47,
     "metadata": {},
     "output_type": "execute_result"
    }
   ],
   "source": [
    "df.columns=[\"Mineral deposits\",\"Mineral Reserves\",\"Gold part\",\"Silver part\",] # provide a name to each column\n",
    "df"
   ]
  },
  {
   "cell_type": "code",
   "execution_count": 62,
   "metadata": {},
   "outputs": [
    {
     "data": {
      "text/html": [
       "<div>\n",
       "<style scoped>\n",
       "    .dataframe tbody tr th:only-of-type {\n",
       "        vertical-align: middle;\n",
       "    }\n",
       "\n",
       "    .dataframe tbody tr th {\n",
       "        vertical-align: top;\n",
       "    }\n",
       "\n",
       "    .dataframe thead th {\n",
       "        text-align: right;\n",
       "    }\n",
       "</style>\n",
       "<table border=\"1\" class=\"dataframe\">\n",
       "  <thead>\n",
       "    <tr style=\"text-align: right;\">\n",
       "      <th></th>\n",
       "      <th>Mineral deposits</th>\n",
       "      <th>Mineral Reserves</th>\n",
       "      <th>Gold part</th>\n",
       "      <th>Silver part</th>\n",
       "      <th>Gold reserves (in g)</th>\n",
       "      <th>Silver reserves (in g)</th>\n",
       "      <th>Gold reserves (in 0z)</th>\n",
       "      <th>Silver reserves(in oz)</th>\n",
       "      <th>Gold reserves (in Oz)</th>\n",
       "      <th>Silver reserves(in Oz)</th>\n",
       "      <th>Value of Gold (in USD)</th>\n",
       "      <th>Silver reserves (in Oz)</th>\n",
       "    </tr>\n",
       "  </thead>\n",
       "  <tbody>\n",
       "    <tr>\n",
       "      <th>0</th>\n",
       "      <td>Grand Bois</td>\n",
       "      <td>4.73</td>\n",
       "      <td>2.23</td>\n",
       "      <td>14.9</td>\n",
       "      <td>10547900.0</td>\n",
       "      <td>70477000.0</td>\n",
       "      <td>339128.058387</td>\n",
       "      <td>2265922.901328</td>\n",
       "      <td>339128.058387</td>\n",
       "      <td>2265922.901328</td>\n",
       "      <td>695144694.080957</td>\n",
       "      <td>2265922.901328</td>\n",
       "    </tr>\n",
       "    <tr>\n",
       "      <th>1</th>\n",
       "      <td>Morne Bossa</td>\n",
       "      <td>2.2</td>\n",
       "      <td>1.84</td>\n",
       "      <td>15</td>\n",
       "      <td>4048000.0</td>\n",
       "      <td>33000000.0</td>\n",
       "      <td>130148.217214</td>\n",
       "      <td>1060990.901199</td>\n",
       "      <td>130148.217214</td>\n",
       "      <td>1060990.901199</td>\n",
       "      <td>266777815.644793</td>\n",
       "      <td>1060990.901199</td>\n",
       "    </tr>\n",
       "    <tr>\n",
       "      <th>2</th>\n",
       "      <td>Faille B</td>\n",
       "      <td>1.1</td>\n",
       "      <td>2.4</td>\n",
       "      <td>0</td>\n",
       "      <td>2640000.0</td>\n",
       "      <td>0.0</td>\n",
       "      <td>84879.272096</td>\n",
       "      <td>0.0</td>\n",
       "      <td>84879.272096</td>\n",
       "      <td>0.0</td>\n",
       "      <td>173985531.942256</td>\n",
       "      <td>0.0</td>\n",
       "    </tr>\n",
       "  </tbody>\n",
       "</table>\n",
       "</div>"
      ],
      "text/plain": [
       "  Mineral deposits Mineral Reserves Gold part Silver part  \\\n",
       "0       Grand Bois             4.73      2.23        14.9   \n",
       "1      Morne Bossa              2.2      1.84          15   \n",
       "2         Faille B              1.1       2.4           0   \n",
       "\n",
       "  Gold reserves (in g) Silver reserves (in g) Gold reserves (in 0z)  \\\n",
       "0           10547900.0             70477000.0         339128.058387   \n",
       "1            4048000.0             33000000.0         130148.217214   \n",
       "2            2640000.0                    0.0          84879.272096   \n",
       "\n",
       "  Silver reserves(in oz) Gold reserves (in Oz) Silver reserves(in Oz)  \\\n",
       "0         2265922.901328         339128.058387         2265922.901328   \n",
       "1         1060990.901199         130148.217214         1060990.901199   \n",
       "2                    0.0          84879.272096                    0.0   \n",
       "\n",
       "  Value of Gold (in USD) Silver reserves (in Oz)  \n",
       "0       695144694.080957          2265922.901328  \n",
       "1       266777815.644793          1060990.901199  \n",
       "2       173985531.942256                     0.0  "
      ]
     },
     "execution_count": 62,
     "metadata": {},
     "output_type": "execute_result"
    }
   ],
   "source": [
    "# create other variables\n",
    "df['Gold reserves (in g)']=df['Mineral Reserves']*1000000*df[\"Gold part\"]         # Gold reserves in gram\n",
    "df['Silver reserves (in g)']=df['Mineral Reserves']*1000000*df[\"Silver part\"]     # Silver reserves in gram\n",
    "df['Gold reserves (in Oz)']=df['Gold reserves (in g)']/31.103\n",
    "df['Silver reserves (in Oz)']=df['Silver reserves (in g)']/31.103\n",
    "df"
   ]
  },
  {
   "cell_type": "code",
   "execution_count": 139,
   "metadata": {},
   "outputs": [
    {
     "data": {
      "text/html": [
       "<div>\n",
       "<style scoped>\n",
       "    .dataframe tbody tr th:only-of-type {\n",
       "        vertical-align: middle;\n",
       "    }\n",
       "\n",
       "    .dataframe tbody tr th {\n",
       "        vertical-align: top;\n",
       "    }\n",
       "\n",
       "    .dataframe thead th {\n",
       "        text-align: right;\n",
       "    }\n",
       "</style>\n",
       "<table border=\"1\" class=\"dataframe\">\n",
       "  <thead>\n",
       "    <tr style=\"text-align: right;\">\n",
       "      <th></th>\n",
       "      <th>Mineral deposits</th>\n",
       "      <th>Mineral Reserves</th>\n",
       "      <th>Gold part</th>\n",
       "      <th>Silver part</th>\n",
       "      <th>Gold reserves (in g)</th>\n",
       "      <th>Silver reserves (in g)</th>\n",
       "      <th>Gold reserves (in 0z)</th>\n",
       "      <th>Silver reserves(in oz)</th>\n",
       "      <th>Gold reserves (in Oz)</th>\n",
       "      <th>Silver reserves(in Oz)</th>\n",
       "      <th>Value of Gold (in USD)</th>\n",
       "      <th>Silver reserves (in Oz)</th>\n",
       "      <th>Value of Silver (in USD)</th>\n",
       "    </tr>\n",
       "  </thead>\n",
       "  <tbody>\n",
       "    <tr>\n",
       "      <th>0</th>\n",
       "      <td>Grand Bois</td>\n",
       "      <td>4.73</td>\n",
       "      <td>2.23</td>\n",
       "      <td>14.9</td>\n",
       "      <td>10547900.0</td>\n",
       "      <td>70477000.0</td>\n",
       "      <td>339128.058387</td>\n",
       "      <td>2265922.901328</td>\n",
       "      <td>339128.058387</td>\n",
       "      <td>2265922.901328</td>\n",
       "      <td>695144694.080957</td>\n",
       "      <td>2265922.901328</td>\n",
       "      <td>51481768.318169</td>\n",
       "    </tr>\n",
       "    <tr>\n",
       "      <th>1</th>\n",
       "      <td>Morne Bossa</td>\n",
       "      <td>2.2</td>\n",
       "      <td>1.84</td>\n",
       "      <td>15</td>\n",
       "      <td>4048000.0</td>\n",
       "      <td>33000000.0</td>\n",
       "      <td>130148.217214</td>\n",
       "      <td>1060990.901199</td>\n",
       "      <td>130148.217214</td>\n",
       "      <td>1060990.901199</td>\n",
       "      <td>266777815.644793</td>\n",
       "      <td>1060990.901199</td>\n",
       "      <td>24105713.275247</td>\n",
       "    </tr>\n",
       "    <tr>\n",
       "      <th>2</th>\n",
       "      <td>Faille B</td>\n",
       "      <td>1.1</td>\n",
       "      <td>2.4</td>\n",
       "      <td>0</td>\n",
       "      <td>2640000.0</td>\n",
       "      <td>0.0</td>\n",
       "      <td>84879.272096</td>\n",
       "      <td>0.0</td>\n",
       "      <td>84879.272096</td>\n",
       "      <td>0.0</td>\n",
       "      <td>173985531.942256</td>\n",
       "      <td>0.0</td>\n",
       "      <td>0.0</td>\n",
       "    </tr>\n",
       "  </tbody>\n",
       "</table>\n",
       "</div>"
      ],
      "text/plain": [
       "  Mineral deposits Mineral Reserves Gold part Silver part  \\\n",
       "0       Grand Bois             4.73      2.23        14.9   \n",
       "1      Morne Bossa              2.2      1.84          15   \n",
       "2         Faille B              1.1       2.4           0   \n",
       "\n",
       "  Gold reserves (in g) Silver reserves (in g) Gold reserves (in 0z)  \\\n",
       "0           10547900.0             70477000.0         339128.058387   \n",
       "1            4048000.0             33000000.0         130148.217214   \n",
       "2            2640000.0                    0.0          84879.272096   \n",
       "\n",
       "  Silver reserves(in oz) Gold reserves (in Oz) Silver reserves(in Oz)  \\\n",
       "0         2265922.901328         339128.058387         2265922.901328   \n",
       "1         1060990.901199         130148.217214         1060990.901199   \n",
       "2                    0.0          84879.272096                    0.0   \n",
       "\n",
       "  Value of Gold (in USD) Silver reserves (in Oz) Value of Silver (in USD)  \n",
       "0       695144694.080957          2265922.901328          51481768.318169  \n",
       "1       266777815.644793          1060990.901199          24105713.275247  \n",
       "2       173985531.942256                     0.0                      0.0  "
      ]
     },
     "execution_count": 139,
     "metadata": {},
     "output_type": "execute_result"
    }
   ],
   "source": [
    "df['Value of Gold (in USD)']=df['Gold reserves (in Oz)']*2049.80   # price on March 1rst, 2024 - From https://www.lbma.org.uk/prices-and-data/precious-metal-prices#/table\n",
    "df['Value of Silver (in USD)']=df['Silver reserves (in Oz)']*22.720  # price on March 1rst, 2024 - From https://www.lbma.org.uk/prices-and-data/precious-metal-prices#/table\n",
    "df"
   ]
  },
  {
   "cell_type": "code",
   "execution_count": null,
   "metadata": {},
   "outputs": [],
   "source": [
    "4.73*1000000"
   ]
  },
  {
   "cell_type": "markdown",
   "metadata": {},
   "source": [
    "# Plot"
   ]
  },
  {
   "cell_type": "code",
   "execution_count": 140,
   "metadata": {},
   "outputs": [
    {
     "data": {
      "text/plain": [
       "<BarContainer object of 3 artists>"
      ]
     },
     "execution_count": 140,
     "metadata": {},
     "output_type": "execute_result"
    },
    {
     "data": {
      "image/png": "[encoded data removed]",
      "text/plain": [
       "<Figure size 640x480 with 2 Axes>"
      ]
     },
     "metadata": {},
     "output_type": "display_data"
    }
   ],
   "source": [
    "plt.figure()\n",
    "plt.subplot(121)\n",
    "plt.bar(df['Mineral deposits'],df['Value of Gold (in USD)'],color='orange')\n",
    "plt.subplot(122)\n",
    "plt.bar(df['Mineral deposits'],df['Value of Silver (in USD)'],color='silver')\n"
   ]
  },
  {
   "cell_type": "code",
   "execution_count": 160,
   "metadata": {},
   "outputs": [
    {
     "data": {
      "image/png": "[encoded data removed]",
      "text/plain": [
       "<Figure size 640x480 with 1 Axes>"
      ]
     },
     "metadata": {},
     "output_type": "display_data"
    }
   ],
   "source": [
    "fig, ax = plt.subplots()\n",
    "\n",
    "\n",
    "bar_width = 0.35            # width of each bar\n",
    "\n",
    "\n",
    "for i, mineral_deposit in enumerate(df['Mineral deposits']):\n",
    "    \n",
    "    x_position = i + 1      # Calculate the position of the bars for this mineral deposit\n",
    "    labelg=['Gold','Silver']\n",
    "    # Plot the gold bar\n",
    "    if i<=0:\n",
    "        ax.bar(x_position - bar_width/2, df.loc[i, 'Value of Gold (in USD)']/1000000, color='goldenrod', width=bar_width, label='Gold')\n",
    "    \n",
    "    # Plot the silver bar\n",
    "        ax.bar(x_position + bar_width/2, df.loc[i, 'Value of Silver (in USD)']/1000000, color='slategray', width=bar_width, label='Silver')\n",
    "    if i>0:\n",
    "        \n",
    "        ax.bar(x_position - bar_width/2, df.loc[i, 'Value of Gold (in USD)']/1000000, color='goldenrod', width=bar_width)\n",
    "    \n",
    "    # Plot the silver bar\n",
    "        ax.bar(x_position + bar_width/2, df.loc[i, 'Value of Silver (in USD)']/1000000, color='slategray', width=bar_width)\n",
    "\n",
    "# Set the x-axis ticks and labels\n",
    "ax.set_xticks(range(1, len(df) + 1))\n",
    "ax.set_xticklabels(df['Mineral deposits'])\n",
    "\n",
    "\n",
    "ax.set_xlabel('Site/Location')   \n",
    "ax.set_ylabel('Millions of USD')\n",
    "ax.set_title('Gold and Silver Deposits Values in Haiti')  \n",
    "plt.legend(loc='upper center', ncol=2) \n",
    "ax.spines[['top','right','left']].set_visible(False)  \n",
    "fig.text(0.12, -0.08, \"Source: Graphic and estimated values by Raulin Cadet, using \\nmineral deposits data from the Bureau des Mines et de l'Energie, \\nand prices on 1st March 2024 from LBMA.\",  \n",
    " ha='left',fontsize=9)\n",
    "plt.show()"
   ]
  },
  {
   "cell_type": "code",
   "execution_count": 147,
   "metadata": {},
   "outputs": [
    {
     "data": {
      "text/plain": [
       "1.1359080416680065"
      ]
     },
     "execution_count": 147,
     "metadata": {},
     "output_type": "execute_result"
    }
   ],
   "source": [
    "np.sum(df['Value of Gold (in USD)'])/1000000000"
   ]
  }
 ],
 "metadata": {
  "kernelspec": {
   "display_name": "Python 3",
   "language": "python",
   "name": "python3"
  },
  "language_info": {
   "codemirror_mode": {
    "name": "ipython",
    "version": 3
   },
   "file_extension": ".py",
   "mimetype": "text/x-python",
   "name": "python",
   "nbconvert_exporter": "python",
   "pygments_lexer": "ipython3",
   "version": "3.11.4"
  }
 },
 "nbformat": 4,
 "nbformat_minor": 2
}
