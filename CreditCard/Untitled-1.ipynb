{
 "cells": [
  {
   "cell_type": "code",
   "execution_count": 2,
   "metadata": {},
   "outputs": [],
   "source": [
    "import pandas as pd\n",
    "import numpy as np\n",
    "import matplotlib\n",
    "import matplotlib.pyplot as plt\n",
    "from statsmodels.tsa.seasonal import seasonal_decompose,STL\n"
   ]
  },
  {
   "cell_type": "code",
   "execution_count": 3,
   "metadata": {},
   "outputs": [
    {
     "data": {
      "text/html": [
       "<div>\n",
       "<style scoped>\n",
       "    .dataframe tbody tr th:only-of-type {\n",
       "        vertical-align: middle;\n",
       "    }\n",
       "\n",
       "    .dataframe tbody tr th {\n",
       "        vertical-align: top;\n",
       "    }\n",
       "\n",
       "    .dataframe thead th {\n",
       "        text-align: right;\n",
       "    }\n",
       "</style>\n",
       "<table border=\"1\" class=\"dataframe\">\n",
       "  <thead>\n",
       "    <tr style=\"text-align: right;\">\n",
       "      <th></th>\n",
       "      <th>Date</th>\n",
       "      <th>Aggregate</th>\n",
       "      <th>Delayable</th>\n",
       "      <th>Social</th>\n",
       "      <th>Staple</th>\n",
       "      <th>Work Related</th>\n",
       "    </tr>\n",
       "  </thead>\n",
       "  <tbody>\n",
       "    <tr>\n",
       "      <th>0</th>\n",
       "      <td>2020-01-13</td>\n",
       "      <td>93.97322</td>\n",
       "      <td>97.07899</td>\n",
       "      <td>88.84211</td>\n",
       "      <td>95.79024</td>\n",
       "      <td>91.24497</td>\n",
       "    </tr>\n",
       "    <tr>\n",
       "      <th>1</th>\n",
       "      <td>2020-01-14</td>\n",
       "      <td>92.79815</td>\n",
       "      <td>94.54525</td>\n",
       "      <td>89.49649</td>\n",
       "      <td>94.27784</td>\n",
       "      <td>90.90500</td>\n",
       "    </tr>\n",
       "    <tr>\n",
       "      <th>2</th>\n",
       "      <td>2020-01-15</td>\n",
       "      <td>92.67429</td>\n",
       "      <td>93.91213</td>\n",
       "      <td>90.90255</td>\n",
       "      <td>93.12012</td>\n",
       "      <td>91.71690</td>\n",
       "    </tr>\n",
       "    <tr>\n",
       "      <th>3</th>\n",
       "      <td>2020-01-16</td>\n",
       "      <td>93.02361</td>\n",
       "      <td>93.19305</td>\n",
       "      <td>92.40377</td>\n",
       "      <td>93.53754</td>\n",
       "      <td>92.39457</td>\n",
       "    </tr>\n",
       "    <tr>\n",
       "      <th>4</th>\n",
       "      <td>2020-01-17</td>\n",
       "      <td>93.13415</td>\n",
       "      <td>92.13038</td>\n",
       "      <td>93.56357</td>\n",
       "      <td>93.81503</td>\n",
       "      <td>93.35457</td>\n",
       "    </tr>\n",
       "  </tbody>\n",
       "</table>\n",
       "</div>"
      ],
      "text/plain": [
       "        Date  Aggregate  Delayable    Social    Staple  Work Related\n",
       "0 2020-01-13   93.97322   97.07899  88.84211  95.79024      91.24497\n",
       "1 2020-01-14   92.79815   94.54525  89.49649  94.27784      90.90500\n",
       "2 2020-01-15   92.67429   93.91213  90.90255  93.12012      91.71690\n",
       "3 2020-01-16   93.02361   93.19305  92.40377  93.53754      92.39457\n",
       "4 2020-01-17   93.13415   92.13038  93.56357  93.81503      93.35457"
      ]
     },
     "execution_count": 3,
     "metadata": {},
     "output_type": "execute_result"
    }
   ],
   "source": [
    "df=pd.read_excel('ukspendingoncreditanddebitcardsdataset261023.xlsx',sheet_name='Daily CHAPS indices',header=3)\n",
    "df.head()"
   ]
  },
  {
   "cell_type": "code",
   "execution_count": 4,
   "metadata": {},
   "outputs": [
    {
     "data": {
      "text/html": [
       "<div>\n",
       "<style scoped>\n",
       "    .dataframe tbody tr th:only-of-type {\n",
       "        vertical-align: middle;\n",
       "    }\n",
       "\n",
       "    .dataframe tbody tr th {\n",
       "        vertical-align: top;\n",
       "    }\n",
       "\n",
       "    .dataframe thead th {\n",
       "        text-align: right;\n",
       "    }\n",
       "</style>\n",
       "<table border=\"1\" class=\"dataframe\">\n",
       "  <thead>\n",
       "    <tr style=\"text-align: right;\">\n",
       "      <th></th>\n",
       "      <th>Aggregate</th>\n",
       "      <th>Delayable</th>\n",
       "      <th>Social</th>\n",
       "      <th>Staple</th>\n",
       "      <th>Work Related</th>\n",
       "    </tr>\n",
       "    <tr>\n",
       "      <th>Date</th>\n",
       "      <th></th>\n",
       "      <th></th>\n",
       "      <th></th>\n",
       "      <th></th>\n",
       "      <th></th>\n",
       "    </tr>\n",
       "  </thead>\n",
       "  <tbody>\n",
       "    <tr>\n",
       "      <th>2020-01-13</th>\n",
       "      <td>93.973220</td>\n",
       "      <td>97.078990</td>\n",
       "      <td>88.842110</td>\n",
       "      <td>95.790240</td>\n",
       "      <td>91.244970</td>\n",
       "    </tr>\n",
       "    <tr>\n",
       "      <th>2020-01-14</th>\n",
       "      <td>92.798150</td>\n",
       "      <td>94.545250</td>\n",
       "      <td>89.496490</td>\n",
       "      <td>94.277840</td>\n",
       "      <td>90.905000</td>\n",
       "    </tr>\n",
       "    <tr>\n",
       "      <th>2020-01-15</th>\n",
       "      <td>92.674290</td>\n",
       "      <td>93.912130</td>\n",
       "      <td>90.902550</td>\n",
       "      <td>93.120120</td>\n",
       "      <td>91.716900</td>\n",
       "    </tr>\n",
       "    <tr>\n",
       "      <th>2020-01-16</th>\n",
       "      <td>93.023610</td>\n",
       "      <td>93.193050</td>\n",
       "      <td>92.403770</td>\n",
       "      <td>93.537540</td>\n",
       "      <td>92.394570</td>\n",
       "    </tr>\n",
       "    <tr>\n",
       "      <th>2020-01-17</th>\n",
       "      <td>93.134150</td>\n",
       "      <td>92.130380</td>\n",
       "      <td>93.563570</td>\n",
       "      <td>93.815030</td>\n",
       "      <td>93.354570</td>\n",
       "    </tr>\n",
       "    <tr>\n",
       "      <th>...</th>\n",
       "      <td>...</td>\n",
       "      <td>...</td>\n",
       "      <td>...</td>\n",
       "      <td>...</td>\n",
       "      <td>...</td>\n",
       "    </tr>\n",
       "    <tr>\n",
       "      <th>2023-10-13</th>\n",
       "      <td>96.819943</td>\n",
       "      <td>75.673829</td>\n",
       "      <td>98.363096</td>\n",
       "      <td>110.036619</td>\n",
       "      <td>138.572040</td>\n",
       "    </tr>\n",
       "    <tr>\n",
       "      <th>2023-10-16</th>\n",
       "      <td>97.285249</td>\n",
       "      <td>77.039766</td>\n",
       "      <td>97.176921</td>\n",
       "      <td>111.113312</td>\n",
       "      <td>138.541744</td>\n",
       "    </tr>\n",
       "    <tr>\n",
       "      <th>2023-10-17</th>\n",
       "      <td>97.424023</td>\n",
       "      <td>77.709726</td>\n",
       "      <td>96.457432</td>\n",
       "      <td>111.442455</td>\n",
       "      <td>138.694166</td>\n",
       "    </tr>\n",
       "    <tr>\n",
       "      <th>2023-10-18</th>\n",
       "      <td>97.604626</td>\n",
       "      <td>78.015793</td>\n",
       "      <td>96.313480</td>\n",
       "      <td>111.847301</td>\n",
       "      <td>138.568594</td>\n",
       "    </tr>\n",
       "    <tr>\n",
       "      <th>2023-10-19</th>\n",
       "      <td>97.880360</td>\n",
       "      <td>78.824784</td>\n",
       "      <td>96.031718</td>\n",
       "      <td>112.159412</td>\n",
       "      <td>138.279858</td>\n",
       "    </tr>\n",
       "  </tbody>\n",
       "</table>\n",
       "<p>952 rows × 5 columns</p>\n",
       "</div>"
      ],
      "text/plain": [
       "            Aggregate  Delayable     Social      Staple  Work Related\n",
       "Date                                                                 \n",
       "2020-01-13  93.973220  97.078990  88.842110   95.790240     91.244970\n",
       "2020-01-14  92.798150  94.545250  89.496490   94.277840     90.905000\n",
       "2020-01-15  92.674290  93.912130  90.902550   93.120120     91.716900\n",
       "2020-01-16  93.023610  93.193050  92.403770   93.537540     92.394570\n",
       "2020-01-17  93.134150  92.130380  93.563570   93.815030     93.354570\n",
       "...               ...        ...        ...         ...           ...\n",
       "2023-10-13  96.819943  75.673829  98.363096  110.036619    138.572040\n",
       "2023-10-16  97.285249  77.039766  97.176921  111.113312    138.541744\n",
       "2023-10-17  97.424023  77.709726  96.457432  111.442455    138.694166\n",
       "2023-10-18  97.604626  78.015793  96.313480  111.847301    138.568594\n",
       "2023-10-19  97.880360  78.824784  96.031718  112.159412    138.279858\n",
       "\n",
       "[952 rows x 5 columns]"
      ]
     },
     "execution_count": 4,
     "metadata": {},
     "output_type": "execute_result"
    }
   ],
   "source": [
    "df['Date']=pd.to_datetime(df['Date'])\n",
    "# df=df.set_index('Date')\n",
    "df.set_index('Date', inplace=True)\n",
    "df"
   ]
  },
  {
   "cell_type": "code",
   "execution_count": 5,
   "metadata": {},
   "outputs": [
    {
     "data": {
      "text/plain": [
       "([2, 3, 4, 0, 1, 2, 3],\n",
       " DatetimeIndex(['2023-10-11', '2023-10-12', '2023-10-13', '2023-10-16',\n",
       "                '2023-10-17', '2023-10-18', '2023-10-19'],\n",
       "               dtype='datetime64[ns]', name='Date', freq=None))"
      ]
     },
     "execution_count": 5,
     "metadata": {},
     "output_type": "execute_result"
    }
   ],
   "source": [
    "[i.weekday() for i in df.tail(7).index.tolist()], df.tail(7).index"
   ]
  },
  {
   "cell_type": "code",
   "execution_count": null,
   "metadata": {},
   "outputs": [],
   "source": []
  },
  {
   "cell_type": "code",
   "execution_count": 6,
   "metadata": {},
   "outputs": [
    {
     "ename": "NameError",
     "evalue": "name 'seasonal' is not defined",
     "output_type": "error",
     "traceback": [
      "\u001b[1;31m---------------------------------------------------------------------------\u001b[0m",
      "\u001b[1;31mNameError\u001b[0m                                 Traceback (most recent call last)",
      "\u001b[1;32mUntitled-1.ipynb Cell 6\u001b[0m line \u001b[0;36m1\n\u001b[1;32m----> <a href='vscode-notebook-cell:Untitled-1.ipynb?jupyter-notebook#W5sdW50aXRsZWQ%3D?line=0'>1</a>\u001b[0m seasonal[\u001b[39m-\u001b[39m\u001b[39m9\u001b[39m:\u001b[39m-\u001b[39m\u001b[39m4\u001b[39m]\u001b[39m.\u001b[39mplot()\n",
      "\u001b[1;31mNameError\u001b[0m: name 'seasonal' is not defined"
     ]
    }
   ],
   "source": [
    "seasonal[-9:-4].plot()"
   ]
  },
  {
   "cell_type": "code",
   "execution_count": 7,
   "metadata": {},
   "outputs": [
    {
     "data": {
      "image/png": "[encoded data removed]",
      "text/plain": [
       "<Figure size 1200x600 with 3 Axes>"
      ]
     },
     "metadata": {},
     "output_type": "display_data"
    }
   ],
   "source": [
    "import pandas as pd\n",
    "import matplotlib.pyplot as plt\n",
    "from statsmodels.tsa.seasonal import STL\n",
    "\n",
    "# Load your daily weekday data\n",
    "# Make sure to have a 'Date' column and a 'Value' column\n",
    "\n",
    "\n",
    "# Perform STL decomposition\n",
    "stl = STL(df['Aggregate'],period=5, seasonal=365)  # 365-day seasonal window (to capture monthly and yearly seasonality)\n",
    "result = stl.fit()\n",
    "\n",
    "# Get the trend, seasonal, and residual components\n",
    "trend = result.trend\n",
    "seasonal = result.seasonal\n",
    "residual = result.resid\n",
    "\n",
    "# Plot the decomposed components\n",
    "plt.figure(figsize=(12, 6))\n",
    "plt.subplot(311)\n",
    "plt.plot(trend[:400])\n",
    "plt.title('Trend')\n",
    "plt.subplot(312)\n",
    "plt.plot(seasonal[-15::])\n",
    "plt.title('Seasonal')\n",
    "plt.subplot(313)\n",
    "plt.plot(residual)\n",
    "plt.title('Residual')\n",
    "plt.tight_layout()\n",
    "plt.show()\n"
   ]
  },
  {
   "cell_type": "code",
   "execution_count": 29,
   "metadata": {},
   "outputs": [
    {
     "data": {
      "text/html": [
       "<div>\n",
       "<style scoped>\n",
       "    .dataframe tbody tr th:only-of-type {\n",
       "        vertical-align: middle;\n",
       "    }\n",
       "\n",
       "    .dataframe tbody tr th {\n",
       "        vertical-align: top;\n",
       "    }\n",
       "\n",
       "    .dataframe thead th {\n",
       "        text-align: right;\n",
       "    }\n",
       "</style>\n",
       "<table border=\"1\" class=\"dataframe\">\n",
       "  <thead>\n",
       "    <tr style=\"text-align: right;\">\n",
       "      <th></th>\n",
       "      <th>Aggregate</th>\n",
       "      <th>Delayable</th>\n",
       "      <th>Social</th>\n",
       "      <th>Staple</th>\n",
       "      <th>Work Related</th>\n",
       "      <th>Weekday</th>\n",
       "    </tr>\n",
       "    <tr>\n",
       "      <th>Date</th>\n",
       "      <th></th>\n",
       "      <th></th>\n",
       "      <th></th>\n",
       "      <th></th>\n",
       "      <th></th>\n",
       "      <th></th>\n",
       "    </tr>\n",
       "  </thead>\n",
       "  <tbody>\n",
       "    <tr>\n",
       "      <th>2023-10-13</th>\n",
       "      <td>96.819943</td>\n",
       "      <td>75.673829</td>\n",
       "      <td>98.363096</td>\n",
       "      <td>110.036619</td>\n",
       "      <td>138.572040</td>\n",
       "      <td>4</td>\n",
       "    </tr>\n",
       "    <tr>\n",
       "      <th>2023-10-16</th>\n",
       "      <td>97.285249</td>\n",
       "      <td>77.039766</td>\n",
       "      <td>97.176921</td>\n",
       "      <td>111.113312</td>\n",
       "      <td>138.541744</td>\n",
       "      <td>0</td>\n",
       "    </tr>\n",
       "    <tr>\n",
       "      <th>2023-10-17</th>\n",
       "      <td>97.424023</td>\n",
       "      <td>77.709726</td>\n",
       "      <td>96.457432</td>\n",
       "      <td>111.442455</td>\n",
       "      <td>138.694166</td>\n",
       "      <td>1</td>\n",
       "    </tr>\n",
       "    <tr>\n",
       "      <th>2023-10-18</th>\n",
       "      <td>97.604626</td>\n",
       "      <td>78.015793</td>\n",
       "      <td>96.313480</td>\n",
       "      <td>111.847301</td>\n",
       "      <td>138.568594</td>\n",
       "      <td>2</td>\n",
       "    </tr>\n",
       "    <tr>\n",
       "      <th>2023-10-19</th>\n",
       "      <td>97.880360</td>\n",
       "      <td>78.824784</td>\n",
       "      <td>96.031718</td>\n",
       "      <td>112.159412</td>\n",
       "      <td>138.279858</td>\n",
       "      <td>3</td>\n",
       "    </tr>\n",
       "  </tbody>\n",
       "</table>\n",
       "</div>"
      ],
      "text/plain": [
       "            Aggregate  Delayable     Social      Staple  Work Related  Weekday\n",
       "Date                                                                          \n",
       "2023-10-13  96.819943  75.673829  98.363096  110.036619    138.572040        4\n",
       "2023-10-16  97.285249  77.039766  97.176921  111.113312    138.541744        0\n",
       "2023-10-17  97.424023  77.709726  96.457432  111.442455    138.694166        1\n",
       "2023-10-18  97.604626  78.015793  96.313480  111.847301    138.568594        2\n",
       "2023-10-19  97.880360  78.824784  96.031718  112.159412    138.279858        3"
      ]
     },
     "execution_count": 29,
     "metadata": {},
     "output_type": "execute_result"
    }
   ],
   "source": [
    "df['Weekday']=[i.weekday() for i in df.index.tolist()]\n",
    "df.tail()"
   ]
  },
  {
   "cell_type": "code",
   "execution_count": 31,
   "metadata": {},
   "outputs": [
    {
     "data": {
      "text/html": [
       "<div>\n",
       "<style scoped>\n",
       "    .dataframe tbody tr th:only-of-type {\n",
       "        vertical-align: middle;\n",
       "    }\n",
       "\n",
       "    .dataframe tbody tr th {\n",
       "        vertical-align: top;\n",
       "    }\n",
       "\n",
       "    .dataframe thead th {\n",
       "        text-align: right;\n",
       "    }\n",
       "</style>\n",
       "<table border=\"1\" class=\"dataframe\">\n",
       "  <thead>\n",
       "    <tr style=\"text-align: right;\">\n",
       "      <th></th>\n",
       "      <th>Aggregate</th>\n",
       "      <th>Delayable</th>\n",
       "      <th>Social</th>\n",
       "      <th>Staple</th>\n",
       "      <th>Work Related</th>\n",
       "      <th>Weekday</th>\n",
       "      <th>Day</th>\n",
       "    </tr>\n",
       "    <tr>\n",
       "      <th>Date</th>\n",
       "      <th></th>\n",
       "      <th></th>\n",
       "      <th></th>\n",
       "      <th></th>\n",
       "      <th></th>\n",
       "      <th></th>\n",
       "      <th></th>\n",
       "    </tr>\n",
       "  </thead>\n",
       "  <tbody>\n",
       "    <tr>\n",
       "      <th>2023-10-13</th>\n",
       "      <td>96.819943</td>\n",
       "      <td>75.673829</td>\n",
       "      <td>98.363096</td>\n",
       "      <td>110.036619</td>\n",
       "      <td>138.572040</td>\n",
       "      <td>4</td>\n",
       "      <td>Friday</td>\n",
       "    </tr>\n",
       "    <tr>\n",
       "      <th>2023-10-16</th>\n",
       "      <td>97.285249</td>\n",
       "      <td>77.039766</td>\n",
       "      <td>97.176921</td>\n",
       "      <td>111.113312</td>\n",
       "      <td>138.541744</td>\n",
       "      <td>0</td>\n",
       "      <td>Monday</td>\n",
       "    </tr>\n",
       "    <tr>\n",
       "      <th>2023-10-17</th>\n",
       "      <td>97.424023</td>\n",
       "      <td>77.709726</td>\n",
       "      <td>96.457432</td>\n",
       "      <td>111.442455</td>\n",
       "      <td>138.694166</td>\n",
       "      <td>1</td>\n",
       "      <td>Tuesday</td>\n",
       "    </tr>\n",
       "    <tr>\n",
       "      <th>2023-10-18</th>\n",
       "      <td>97.604626</td>\n",
       "      <td>78.015793</td>\n",
       "      <td>96.313480</td>\n",
       "      <td>111.847301</td>\n",
       "      <td>138.568594</td>\n",
       "      <td>2</td>\n",
       "      <td>Wednesday</td>\n",
       "    </tr>\n",
       "    <tr>\n",
       "      <th>2023-10-19</th>\n",
       "      <td>97.880360</td>\n",
       "      <td>78.824784</td>\n",
       "      <td>96.031718</td>\n",
       "      <td>112.159412</td>\n",
       "      <td>138.279858</td>\n",
       "      <td>3</td>\n",
       "      <td>Thursday</td>\n",
       "    </tr>\n",
       "  </tbody>\n",
       "</table>\n",
       "</div>"
      ],
      "text/plain": [
       "            Aggregate  Delayable     Social      Staple  Work Related  \\\n",
       "Date                                                                    \n",
       "2023-10-13  96.819943  75.673829  98.363096  110.036619    138.572040   \n",
       "2023-10-16  97.285249  77.039766  97.176921  111.113312    138.541744   \n",
       "2023-10-17  97.424023  77.709726  96.457432  111.442455    138.694166   \n",
       "2023-10-18  97.604626  78.015793  96.313480  111.847301    138.568594   \n",
       "2023-10-19  97.880360  78.824784  96.031718  112.159412    138.279858   \n",
       "\n",
       "            Weekday        Day  \n",
       "Date                            \n",
       "2023-10-13        4     Friday  \n",
       "2023-10-16        0     Monday  \n",
       "2023-10-17        1    Tuesday  \n",
       "2023-10-18        2  Wednesday  \n",
       "2023-10-19        3   Thursday  "
      ]
     },
     "execution_count": 31,
     "metadata": {},
     "output_type": "execute_result"
    }
   ],
   "source": [
    "days_of_week = {'0':\"Monday\", '1':\"Tuesday\", '2':\"Wednesday\", '3':\"Thursday\", '4':\"Friday\", '5':\"Saturday\", '6':\"Sunday\"}\n",
    "df['Day']=[days_of_week[str(i)] for i in df['Weekday']]\n",
    "df.tail()"
   ]
  },
  {
   "cell_type": "code",
   "execution_count": 41,
   "metadata": {},
   "outputs": [
    {
     "data": {
      "text/plain": [
       "Date\n",
       "2023-10-13   -0.418978\n",
       "2023-10-16   -0.325137\n",
       "2023-10-17   -0.100523\n",
       "2023-10-18    0.266789\n",
       "2023-10-19    0.581791\n",
       "Name: season, dtype: float64"
      ]
     },
     "execution_count": 41,
     "metadata": {},
     "output_type": "execute_result"
    }
   ],
   "source": [
    "seasonal[-5:]"
   ]
  },
  {
   "cell_type": "code",
   "execution_count": 43,
   "metadata": {},
   "outputs": [
    {
     "data": {
      "text/plain": [
       "Day\n",
       "Friday       95.389308\n",
       "Monday       94.724863\n",
       "Thursday     95.022427\n",
       "Tuesday      94.974931\n",
       "Wednesday    95.087646\n",
       "Name: Aggregate, dtype: float64"
      ]
     },
     "execution_count": 43,
     "metadata": {},
     "output_type": "execute_result"
    }
   ],
   "source": [
    "df.groupby('Day')['Aggregate'].mean()"
   ]
  },
  {
   "cell_type": "markdown",
   "metadata": {},
   "source": [
    "# Monthly data"
   ]
  },
  {
   "cell_type": "code",
   "execution_count": 92,
   "metadata": {},
   "outputs": [
    {
     "data": {
      "text/html": [
       "<div>\n",
       "<style scoped>\n",
       "    .dataframe tbody tr th:only-of-type {\n",
       "        vertical-align: middle;\n",
       "    }\n",
       "\n",
       "    .dataframe tbody tr th {\n",
       "        vertical-align: top;\n",
       "    }\n",
       "\n",
       "    .dataframe thead th {\n",
       "        text-align: right;\n",
       "    }\n",
       "</style>\n",
       "<table border=\"1\" class=\"dataframe\">\n",
       "  <thead>\n",
       "    <tr style=\"text-align: right;\">\n",
       "      <th></th>\n",
       "      <th>Aggregate</th>\n",
       "    </tr>\n",
       "    <tr>\n",
       "      <th>Date</th>\n",
       "      <th></th>\n",
       "    </tr>\n",
       "  </thead>\n",
       "  <tbody>\n",
       "    <tr>\n",
       "      <th>2020-01-31</th>\n",
       "      <td>95.803285</td>\n",
       "    </tr>\n",
       "    <tr>\n",
       "      <th>2020-02-29</th>\n",
       "      <td>99.999992</td>\n",
       "    </tr>\n",
       "    <tr>\n",
       "      <th>2020-03-31</th>\n",
       "      <td>90.758310</td>\n",
       "    </tr>\n",
       "    <tr>\n",
       "      <th>2020-04-30</th>\n",
       "      <td>55.853971</td>\n",
       "    </tr>\n",
       "    <tr>\n",
       "      <th>2020-05-31</th>\n",
       "      <td>66.214348</td>\n",
       "    </tr>\n",
       "  </tbody>\n",
       "</table>\n",
       "</div>"
      ],
      "text/plain": [
       "            Aggregate\n",
       "Date                 \n",
       "2020-01-31  95.803285\n",
       "2020-02-29  99.999992\n",
       "2020-03-31  90.758310\n",
       "2020-04-30  55.853971\n",
       "2020-05-31  66.214348"
      ]
     },
     "execution_count": 92,
     "metadata": {},
     "output_type": "execute_result"
    }
   ],
   "source": [
    "dm=pd.DataFrame(df.Aggregate.resample('M').mean())\n",
    "dm.head()"
   ]
  },
  {
   "cell_type": "code",
   "execution_count": 94,
   "metadata": {},
   "outputs": [
    {
     "data": {
      "text/plain": [
       "DatetimeIndex(['2020-01-31', '2020-02-29', '2020-03-31', '2020-04-30',\n",
       "               '2020-05-31', '2020-06-30', '2020-07-31', '2020-08-31',\n",
       "               '2020-09-30', '2020-10-31', '2020-11-30', '2020-12-31',\n",
       "               '2021-01-31', '2021-02-28', '2021-03-31', '2021-04-30',\n",
       "               '2021-05-31', '2021-06-30', '2021-07-31', '2021-08-31',\n",
       "               '2021-09-30', '2021-10-31', '2021-11-30', '2021-12-31',\n",
       "               '2022-01-31', '2022-02-28', '2022-03-31', '2022-04-30',\n",
       "               '2022-05-31', '2022-06-30', '2022-07-31', '2022-08-31',\n",
       "               '2022-09-30', '2022-10-31', '2022-11-30', '2022-12-31',\n",
       "               '2023-01-31', '2023-02-28', '2023-03-31', '2023-04-30',\n",
       "               '2023-05-31', '2023-06-30', '2023-07-31', '2023-08-31',\n",
       "               '2023-09-30', '2023-10-31'],\n",
       "              dtype='datetime64[ns]', name='Date', freq='M')"
      ]
     },
     "execution_count": 94,
     "metadata": {},
     "output_type": "execute_result"
    }
   ],
   "source": [
    "range(len(dm.index))\n",
    "dm.index"
   ]
  },
  {
   "cell_type": "code",
   "execution_count": 96,
   "metadata": {},
   "outputs": [
    {
     "data": {
      "text/html": [
       "<div>\n",
       "<style scoped>\n",
       "    .dataframe tbody tr th:only-of-type {\n",
       "        vertical-align: middle;\n",
       "    }\n",
       "\n",
       "    .dataframe tbody tr th {\n",
       "        vertical-align: top;\n",
       "    }\n",
       "\n",
       "    .dataframe thead th {\n",
       "        text-align: right;\n",
       "    }\n",
       "</style>\n",
       "<table border=\"1\" class=\"dataframe\">\n",
       "  <thead>\n",
       "    <tr style=\"text-align: right;\">\n",
       "      <th></th>\n",
       "      <th>Aggregate</th>\n",
       "      <th>Month</th>\n",
       "    </tr>\n",
       "    <tr>\n",
       "      <th>Date</th>\n",
       "      <th></th>\n",
       "      <th></th>\n",
       "    </tr>\n",
       "  </thead>\n",
       "  <tbody>\n",
       "    <tr>\n",
       "      <th>2020-01-31</th>\n",
       "      <td>95.803285</td>\n",
       "      <td>January</td>\n",
       "    </tr>\n",
       "    <tr>\n",
       "      <th>2020-02-29</th>\n",
       "      <td>99.999992</td>\n",
       "      <td>February</td>\n",
       "    </tr>\n",
       "    <tr>\n",
       "      <th>2020-03-31</th>\n",
       "      <td>90.758310</td>\n",
       "      <td>March</td>\n",
       "    </tr>\n",
       "    <tr>\n",
       "      <th>2020-04-30</th>\n",
       "      <td>55.853971</td>\n",
       "      <td>April</td>\n",
       "    </tr>\n",
       "    <tr>\n",
       "      <th>2020-05-31</th>\n",
       "      <td>66.214348</td>\n",
       "      <td>May</td>\n",
       "    </tr>\n",
       "  </tbody>\n",
       "</table>\n",
       "</div>"
      ],
      "text/plain": [
       "            Aggregate     Month\n",
       "Date                           \n",
       "2020-01-31  95.803285   January\n",
       "2020-02-29  99.999992  February\n",
       "2020-03-31  90.758310     March\n",
       "2020-04-30  55.853971     April\n",
       "2020-05-31  66.214348       May"
      ]
     },
     "execution_count": 96,
     "metadata": {},
     "output_type": "execute_result"
    }
   ],
   "source": [
    "dm['Month']=[dm.index[i].strftime(\"%B\") for i in range(len(dm.index))]\n",
    "dm.head()"
   ]
  },
  {
   "cell_type": "code",
   "execution_count": 104,
   "metadata": {},
   "outputs": [
    {
     "data": {
      "text/plain": [
       "Date\n",
       "2020-01-31     1.393460\n",
       "2020-02-29     6.491380\n",
       "2020-03-31     1.051304\n",
       "2020-04-30   -22.196600\n",
       "2020-05-31   -12.699049\n",
       "2020-06-30    -4.496246\n",
       "2020-07-31     0.313268\n",
       "2020-08-31     3.159738\n",
       "2020-09-30     4.968133\n",
       "2020-10-31     5.032112\n",
       "2020-11-30     1.770233\n",
       "2020-12-31    16.998555\n",
       "2021-01-31    -7.050551\n",
       "2021-02-28    -0.655206\n",
       "2021-03-31    -0.778335\n",
       "2021-04-30    -9.379814\n",
       "2021-05-31    -3.573838\n",
       "2021-06-30    -1.534632\n",
       "2021-07-31     0.270603\n",
       "2021-08-31    -0.143225\n",
       "2021-09-30     0.596844\n",
       "2021-10-31     1.811996\n",
       "2021-11-30     3.752841\n",
       "2021-12-31    16.535046\n",
       "2022-01-31   -11.612284\n",
       "2022-02-28    -4.733455\n",
       "2022-03-31    -1.532849\n",
       "2022-04-30    -0.774935\n",
       "2022-05-31     2.299007\n",
       "2022-06-30     0.509294\n",
       "2022-07-31    -0.328130\n",
       "2022-08-31    -3.187987\n",
       "2022-09-30    -3.232809\n",
       "2022-10-31    -1.600872\n",
       "2022-11-30     5.099696\n",
       "2022-12-31    16.273703\n",
       "2023-01-31   -11.213804\n",
       "2023-02-28    -4.519680\n",
       "2023-03-31    -0.343882\n",
       "2023-04-30     2.833124\n",
       "2023-05-31     4.129961\n",
       "2023-06-30     1.342285\n",
       "2023-07-31    -1.359937\n",
       "2023-08-31    -5.988591\n",
       "2023-09-30    -6.357256\n",
       "2023-10-31    -4.944826\n",
       "Freq: M, Name: season, dtype: float64"
      ]
     },
     "execution_count": 104,
     "metadata": {},
     "output_type": "execute_result"
    }
   ],
   "source": [
    "STL(dm.Aggregate).fit().seasonal"
   ]
  },
  {
   "cell_type": "code",
   "execution_count": 114,
   "metadata": {},
   "outputs": [
    {
     "data": {
      "text/plain": [
       "<BarContainer object of 12 artists>"
      ]
     },
     "execution_count": 114,
     "metadata": {},
     "output_type": "execute_result"
    },
    {
     "data": {
      "image/png": "[encoded data removed]",
      "text/plain": [
       "<Figure size 640x480 with 1 Axes>"
      ]
     },
     "metadata": {},
     "output_type": "display_data"
    }
   ],
   "source": [
    "fig=plt.subplot()\n",
    "plt.barh(dm.groupby('Month')['Aggregate'].mean().sort_values(ascending=False).index,dm.groupby('Month')['Aggregate'].mean().sort_values(ascending=False))"
   ]
  },
  {
   "cell_type": "code",
   "execution_count": null,
   "metadata": {},
   "outputs": [],
   "source": []
  },
  {
   "cell_type": "code",
   "execution_count": 107,
   "metadata": {},
   "outputs": [],
   "source": [
    "dm['Seasonal']=STL(dm.Aggregate).fit().seasonal"
   ]
  },
  {
   "cell_type": "code",
   "execution_count": 108,
   "metadata": {},
   "outputs": [
    {
     "data": {
      "text/plain": [
       "Month\n",
       "December     16.602435\n",
       "November      3.540923\n",
       "October       0.074603\n",
       "July         -0.276049\n",
       "March        -0.400941\n",
       "February     -0.854240\n",
       "September    -1.006272\n",
       "June         -1.044825\n",
       "August       -1.540016\n",
       "May          -2.460980\n",
       "January      -7.120795\n",
       "April        -7.379556\n",
       "Name: Seasonal, dtype: float64"
      ]
     },
     "execution_count": 108,
     "metadata": {},
     "output_type": "execute_result"
    }
   ],
   "source": [
    "dm.groupby('Month')['Seasonal'].mean().sort_values(ascending=False)"
   ]
  },
  {
   "cell_type": "code",
   "execution_count": null,
   "metadata": {},
   "outputs": [],
   "source": [
    "from statsmodels.tsa.seasonal import seasonal_decompose\n",
    "\n",
    "decomposition = seasonal_decompose(df['Aggregate'], model='additive', freq=30)  # Assuming daily data with a 30-day seasonality\n",
    "trend = decomposition.trend\n",
    "seasonal = decomposition.seasonal\n",
    "residual = decomposition.resid\n",
    "\n",
    "plt.figure(figsize=(12, 8))\n",
    "plt.subplot(411)\n",
    "plt.plot(data['Index'], label='Original', color='blue')\n",
    "plt.legend(loc='upper left')\n",
    "plt.subplot(412)\n",
    "plt.plot(trend, label='Trend', color='red')\n",
    "plt.legend(loc='upper left')\n",
    "plt.subplot(413)\n",
    "plt.plot(seasonal, label='Seasonal', color='green')\n",
    "plt.legend(loc='upper left')\n",
    "plt.subplot(414)\n",
    "plt.plot(residual, label='Residual', color='brown')\n",
    "plt.legend(loc='upper left')\n",
    "plt.tight_layout()\n"
   ]
  }
 ],
 "metadata": {
  "kernelspec": {
   "display_name": "Python 3",
   "language": "python",
   "name": "python3"
  },
  "language_info": {
   "codemirror_mode": {
    "name": "ipython",
    "version": 3
   },
   "file_extension": ".py",
   "mimetype": "text/x-python",
   "name": "python",
   "nbconvert_exporter": "python",
   "pygments_lexer": "ipython3",
   "version": "3.11.4"
  }
 },
 "nbformat": 4,
 "nbformat_minor": 2
}
